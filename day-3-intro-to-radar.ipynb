{
 "cells": [
  {
   "cell_type": "markdown",
   "id": "a081cd24",
   "metadata": {},
   "source": [
    "# Why radar?"
   ]
  },
  {
   "cell_type": "markdown",
   "id": "79174b38",
   "metadata": {},
   "source": [
    "- Active vs. passive sensing\n",
    "    - Passive: receive radiantion naturally emitted by a surface\n",
    "    - Active: apply their own illumination and receive reflected echoes"
   ]
  },
  {
   "cell_type": "markdown",
   "id": "de47d592",
   "metadata": {},
   "source": [
    "- Radar\n",
    "    - Active sensor that transmits microwave radiation\n",
    "    - Airborne\n",
    "        - Cheaper than space-borne, more flexible revisit time\n",
    "    - Space-borne platforms"
   ]
  },
  {
   "cell_type": "markdown",
   "id": "365ca540",
   "metadata": {},
   "source": [
    "- Unique aspects of radar remote sensing\n",
    "    - Day or night\n",
    "    - All weather conditions\n",
    "        - Weather impact depends on the wavelength\n",
    "        - Higher frequency, the impact is greater\n",
    "    - Resolution is independent of range (distance)\n",
    "        - Different than optical remote sensing"
   ]
  },
  {
   "cell_type": "markdown",
   "id": "590f83a9",
   "metadata": {},
   "source": [
    "## Synthetic aperture radar (SAR)"
   ]
  },
  {
   "cell_type": "markdown",
   "id": "aec8c10b",
   "metadata": {},
   "source": [
    "- Designed to overcome antenna size limit to the along-track or azimuth resolution"
   ]
  },
  {
   "cell_type": "markdown",
   "id": "96d4a289",
   "metadata": {},
   "source": [
    "- Types of radars\n",
    "    - Altimeter\n",
    "        - To measure height\n",
    "    - Scatterometers\n",
    "        - Geophysical quantity (e.g. wind speed, soil moisture)\n",
    "    - Sounders\n",
    "        - Measures vertically\n",
    "    - SARs\n",
    "        - Forms imagery of scene\n",
    "    - Polarmetric systems\n",
    "        - Measures backscatter of multiple polarizations\n",
    "    - Radar stereo\n",
    "        -Two vantages to measure topography\n",
    "    - Radar interferometry for topography\n",
    "    - Radar interferometry for deformation\n",
    "        - Deformation in surface in cm or mm scale"
   ]
  },
  {
   "cell_type": "markdown",
   "id": "79faecfb",
   "metadata": {},
   "source": [
    "## Brief history of SAR"
   ]
  },
  {
   "cell_type": "markdown",
   "id": "4f3a5315",
   "metadata": {},
   "source": [
    "# Radar"
   ]
  },
  {
   "cell_type": "markdown",
   "id": "d23f339a",
   "metadata": {},
   "source": [
    "## Basic information"
   ]
  },
  {
   "cell_type": "markdown",
   "id": "04c851a1",
   "metadata": {},
   "source": [
    "- Designed to measure time\n",
    "- Record the strength of the signal returned from the object or \"detection\" of the object\n",
    "- Left/right ambiguity will be caused if radar directly observes down the sensor\n",
    "    - Signal from both left and right, cannot recognize which is which"
   ]
  },
  {
   "cell_type": "markdown",
   "id": "5130bf67",
   "metadata": {},
   "source": [
    "- Radar imaging\n",
    "    - Record the round-trip time of the signal from the sensor, hit the object, and come back\n",
    "    - Echo travel time\n",
    "- Measures a complex signal (reflected at an image pixel)\n",
    "    - Magnitude (strength)\n",
    "    - Phase\n",
    "        - Round-trip distance\n",
    "        - What's on the ground\n",
    "        - The phase of the radar signal is the number of cycles of oscillation that the wave executes between the radar and the surface and back again ([ref](https://appliedsciences.nasa.gov/sites/default/files/Session4-SAR-English_0.pdf))\n",
    "        - The total phase is two-way range measured in wave cycles + random component from the surface "
   ]
  },
  {
   "cell_type": "markdown",
   "id": "38447aa6",
   "metadata": {},
   "source": [
    "- Imaging radar terminology ([ref](https://medium.com/the-downlinq/sar-101-an-introduction-to-synthetic-aperture-radar-2f0b6246c4a0))\n",
    "    - **Look angle ($\\theta$)**: angle between beam of signal and the height of the platform (ends in the center of the earth)\n",
    "        - Can be calculated using range by conversely using cosine\n",
    "    - Incidence angle: the angle local surface normal and the beam of signal\n",
    "    - Swath and beamwidth\n",
    "\n",
    "![picture](https://miro.medium.com/v2/resize:fit:972/0*bQyGKQmY9tEbwQhx)"
   ]
  },
  {
   "cell_type": "markdown",
   "id": "61aa347f",
   "metadata": {},
   "source": [
    "- Intro to microwaves\n",
    "    - Microwave lengths are 100,000 to 1,000,000 larger than visible light\n",
    "- From small wv length to large\n",
    "    - X\n",
    "    - C\n",
    "    - S\n",
    "    - L"
   ]
  },
  {
   "cell_type": "markdown",
   "id": "77deb4c9",
   "metadata": {},
   "source": [
    "- Radar on a moving platform\n",
    "    - Antenna beamwidth\n",
    "        - Smaller (narrow) antenna, big beamwidth\n",
    "        - Big antenna, small beamwidth"
   ]
  },
  {
   "cell_type": "markdown",
   "id": "28c6489e",
   "metadata": {},
   "source": [
    "- Radar imaging concept\n",
    "    - Beam -> hit object within the beam footprint -> get a combination of signal from the ground object\n",
    "    - The echo time is at the microsecond level"
   ]
  },
  {
   "cell_type": "markdown",
   "id": "30a358d9",
   "metadata": {},
   "source": [
    "- Elements of a SAR system\n",
    "    - A means to generate the transmit microwave radiation\n",
    "    - A means of receiving and recording the reflected energy\n",
    "    - A way to command and control radar operation\n",
    "- For good imagery generation\n",
    "    - insure phase coherence from pulse-to-pulse (stable local oscillator)\n",
    "    - Knowledge of position of the antenna\n",
    "- STALO\n",
    "    - The clock to syn every part in the SAR system"
   ]
  },
  {
   "cell_type": "markdown",
   "id": "e7e68a12",
   "metadata": {},
   "source": [
    "## Antenna basics"
   ]
  },
  {
   "cell_type": "markdown",
   "id": "3f428d41",
   "metadata": {},
   "source": [
    "- Antenna basics\n",
    "    - Direct the radiation into a desired angular region that depends on the size of the antenna and its wavelength\n",
    "        - Small antenna -> wide beams\n",
    "        - Large antenna -> narrow beams\n",
    "    - Antenna gain pattern\n",
    "        - Strongest at angle = 0 (main lobe)\n",
    "        - Decays in sidelobe\n",
    "        - Beamwidth is around 70% of the main lobe\n",
    "        \n",
    "        \n",
    "![pic](https://copradar.com/chapts/chapt3/f3d2d3.png)"
   ]
  },
  {
   "cell_type": "markdown",
   "id": "eda67087",
   "metadata": {},
   "source": [
    "- Phase to distnace relationship\n",
    "    - Phase: converting the distance to wavelength and multiplying by $2\\pi$"
   ]
  },
  {
   "cell_type": "markdown",
   "id": "48a8c165",
   "metadata": {},
   "source": [
    "- Trade-off between side lobe and main lobe"
   ]
  },
  {
   "cell_type": "markdown",
   "id": "e713abf4",
   "metadata": {},
   "source": [
    "- Two dimensional array and peak gain"
   ]
  },
  {
   "cell_type": "markdown",
   "id": "5d4c35d7",
   "metadata": {},
   "source": [
    "## Radar imagery"
   ]
  },
  {
   "cell_type": "markdown",
   "id": "e29a608a",
   "metadata": {},
   "source": [
    "- Range, azimuth, get a signal in the form of complex number in the pixel defined by range and azimuth"
   ]
  },
  {
   "cell_type": "markdown",
   "id": "071373d1",
   "metadata": {},
   "source": [
    "- Phase measurement in radar imagery\n",
    "    - A complex value (both a magnitude and phase)\n",
    "        - $z = re^i\\theta$\n",
    "- Phase\n",
    "    - function of the range to the pixel from the platform\n",
    "    - wavelength\n",
    "    - arrangement of scatters within a resolution\n",
    "    - electrical properties\n",
    "- Magnitude\n",
    "    - Amount of energy returned"
   ]
  },
  {
   "cell_type": "markdown",
   "id": "8efd5ea0",
   "metadata": {},
   "source": [
    "### Decoding the phase\n",
    "- Polarimetry\n",
    "    - Info on scattering mechanism from all objects within the pixle on the ground\n",
    "    - Removes geometric phase\n",
    "- Interferometry\n",
    "    - Info on differential ranges\n",
    "    - Removes scattering phase"
   ]
  },
  {
   "attachments": {},
   "cell_type": "markdown",
   "id": "c2d1978d",
   "metadata": {},
   "source": [
    "- Poloarization\n",
    "    - Polarization refers to the orientation of the plane in which the transmitted electromagnetic wave oscillates. While the orientation can occur at any angle, SAR sensors typically transmit linearly polarized. \n",
    "    - The horizontal polarization is indicated by the letter H, and the vertical polarization is indicated by V.\n",
    "    - signal polarization can be precisely controlled on both transmit and receive\n",
    "    - [Reference](https://www.earthdata.nasa.gov/learn/backgrounders/what-is-sar#:~:text=Polarization%20refers%20to%20the%20orientation,polarization%20is%20indicated%20by%20V.)"
   ]
  },
  {
   "cell_type": "markdown",
   "id": "85e87f6c",
   "metadata": {},
   "source": [
    "- Geometric interpolation\n",
    "    - The normalized radar cross section is the RCS normalized by the area of the ground within a resolution element"
   ]
  },
  {
   "cell_type": "markdown",
   "id": "64ab89ec",
   "metadata": {},
   "source": [
    "### Backscatter"
   ]
  },
  {
   "cell_type": "markdown",
   "id": "f9bb5d44",
   "metadata": {},
   "source": [
    "    \n",
    "![backscatter](https://www.earthdata.nasa.gov/s3fs-public/imported/SARPolarization.jpg?VersionId=mSa4j.XwWY8P_9Y0fxw9Ycp0FjGxLDaY)"
   ]
  },
  {
   "cell_type": "markdown",
   "id": "510a705f",
   "metadata": {},
   "source": [
    "- Image intensity for selected polarizations\n",
    "    - Different land cover types respond differntly to different polarization\n",
    "- Backscatter is a function of the dielectric constance of the surface\n",
    "- Backscatter depends on \n",
    "    - polarization\n",
    "    - wetness\n",
    "    - vegetation level\n",
    "    - urban structures\n",
    "    - wind speed\n",
    "        - changes roughness in a strong wind\n",
    "    - roughness\n",
    "        - changes over wavelength\n",
    "    - falls off as a function of incidence angle\n",
    "\n"
   ]
  },
  {
   "cell_type": "markdown",
   "id": "c385c3a0",
   "metadata": {},
   "source": [
    "- Muhleman backscatter law\n",
    "    - Backscatter falls as a function of incidence angle"
   ]
  },
  {
   "cell_type": "markdown",
   "id": "06a01b80",
   "metadata": {},
   "source": [
    "- Radar backscatter sensitivities\n",
    "    - Sensitive to structures\n",
    "    - The scale. of objects relative to the radar wvl determines how smooth an object appears to the radar and how bright or dark it is in the immagery"
   ]
  },
  {
   "cell_type": "markdown",
   "id": "96284ac1",
   "metadata": {},
   "source": [
    "- Longer wavelength tends to penetrate deeper\n",
    "    - Forest: leaves in X-band but not in L-band\n",
    "    - X-band cannot penetrate trees very well\n",
    "    - L-band (longer wavelength than X-band), can penetrate trees well and distinguish buildings and roads below and surrounded by trees better\n",
    "    - P-band penetrate even more deeply to see a stronger backscatter of buildings and roads"
   ]
  },
  {
   "cell_type": "markdown",
   "id": "0b7e9c5b",
   "metadata": {},
   "source": [
    "- Small perturbation model (SPM)\n",
    "    - Used in soil moisture inversion algorithms\n",
    "    - Separate backscatter from different objects\n",
    "    - Basic idea\n",
    "        - the ratio of $\\sigma_hh/\\sigma_vv$ is independent of surface roughness and only depends on the complex dielectric for which the real part can be related to **volumetric soil moisture**"
   ]
  },
  {
   "cell_type": "markdown",
   "id": "999648f0",
   "metadata": {},
   "source": [
    "### Radar range equation"
   ]
  },
  {
   "cell_type": "markdown",
   "id": "04d16455",
   "metadata": {},
   "source": [
    "- Radar range equation\n",
    "    - Predicts based on radar system parameter what the signal-to-noise(SNR) is for the system\n",
    "    - SNR = reflected/background thermal noise\n",
    "    - The amount of noise power is a function of the bandwidth\n",
    "    - $P_noise = kTB$\n",
    "        - T: system temp\n",
    "        - B: bandwidth\n",
    "        - k: Boltzmann's constant\n",
    "    - SNR can measure the SAR data quality"
   ]
  },
  {
   "cell_type": "markdown",
   "id": "643b6285",
   "metadata": {},
   "source": [
    "- Point signal -> 3D channel -> Sphere ($4\\pi\\rho^2$)\n",
    "- SNR significantly decrease with surface area and range ($\\rho$)\n",
    "- SNR increases with wavelength\n",
    "\n",
    "![SNR equation](https://i.stack.imgur.com/qUYHS.png)"
   ]
  },
  {
   "cell_type": "markdown",
   "id": "08e01620",
   "metadata": {},
   "source": [
    "### Radar interferometry"
   ]
  },
  {
   "cell_type": "markdown",
   "id": "8c88677f",
   "metadata": {},
   "source": [
    "- [How does interferometry work](https://www.esa.int/Applications/Observing_the_Earth/How_does_interferometry_work)"
   ]
  },
  {
   "cell_type": "markdown",
   "id": "835cde21",
   "metadata": {},
   "source": [
    "- Phase rate and doppler frequency\n",
    "    - Object moving relative to a radar experience a freq shift called Doppler shift\n",
    "- Doppler centroid\n",
    "    - Doppler at the point of the peak beam when the beam travels along the moving direction of the sensor\n",
    "- Azimuth resolution is determined by the azimuth beamwidth"
   ]
  },
  {
   "cell_type": "markdown",
   "id": "e6c941d3",
   "metadata": {},
   "source": [
    "### Range resolution"
   ]
  },
  {
   "cell_type": "markdown",
   "id": "ffc28bff",
   "metadata": {},
   "source": [
    "- Range resolution\n",
    "    - How well can a beam distinguish objects spread across different distance using pulses of signals\n",
    "    - High range resolution can distinguish objects are very close together\n",
    "    - To increase the range resolution: use different beams at diff wavelength and wavelength to create different types of beams to distinguish\n",
    "    - **Range resolution is inversely related to bandwidth**"
   ]
  },
  {
   "cell_type": "markdown",
   "id": "866a1b88",
   "metadata": {},
   "source": [
    "- Matched filtering principle\n",
    "- Pulse compression\n",
    "    - Chirp waveforms for pulse compression\n",
    "    - FFT"
   ]
  },
  {
   "cell_type": "markdown",
   "id": "05669f1e",
   "metadata": {},
   "source": [
    "### Azimuth resolution"
   ]
  },
  {
   "cell_type": "markdown",
   "id": "02ab55aa",
   "metadata": {},
   "source": [
    "- Dependent on size of antenna\n",
    "    - Size of antenna divided by 2 ($\\Delta s = L/2$)\n",
    "- **Independent on range**\n",
    "- Allow us to measure objects on land very far away"
   ]
  },
  {
   "cell_type": "markdown",
   "id": "b64406de",
   "metadata": {},
   "source": [
    "- Ambiguities and antennas\n",
    "    - Antenna length determins azimuth resolution"
   ]
  },
  {
   "cell_type": "markdown",
   "id": "bea799e9",
   "metadata": {},
   "source": [
    "**Key terms to review**\n",
    "- Phase\n",
    "- Range resolution\n",
    "- Azimuth resolution\n",
    "    - Approx. half of range resolution\n",
    "- Interferometry"
   ]
  },
  {
   "cell_type": "markdown",
   "id": "00d3fbf1",
   "metadata": {},
   "source": [
    "## SAR imaging"
   ]
  },
  {
   "cell_type": "markdown",
   "id": "9d8ec556",
   "metadata": {},
   "source": [
    "- SAR imaging paradigm\n",
    "    - Strip mode\n",
    "        - Achievable azimuth res is half the along-track antenna length\n",
    "    - ScanSAR or Burst Mode\n",
    "        - Lose azimuth resolution and SNR; can produce some dark strips between scans\n",
    "        - Gain: smaller data size\n",
    "        - Used in SRTM\n",
    "    - Spotlight Mode\n",
    "        - Lose: continuity\n",
    "        - Gain: good azimuth resolution"
   ]
  },
  {
   "cell_type": "markdown",
   "id": "0630da64",
   "metadata": {},
   "source": [
    "- Radar imaging properties\n",
    "    - **Distorted relative to a planimetric view**\n",
    "    - Different number of pixels in left and right direction if not geometrically corrected\n",
    "    - Layover condition\n",
    "        - Slope can feel foreshortened\n",
    "    - Shadow\n",
    "        - area occulted by other areas"
   ]
  },
  {
   "cell_type": "markdown",
   "id": "4578aaff",
   "metadata": {},
   "source": [
    "- SAR imagery and speckle\n",
    "    - Due to the coherent nature of SAR imaging\n",
    "    - Returned signal is a combination of phase and coherent combination of scattering objects"
   ]
  },
  {
   "cell_type": "markdown",
   "id": "39b4530f",
   "metadata": {},
   "source": [
    "- The image variance can be reduced by spatial averaging of pixels referred to as **taking looks**"
   ]
  },
  {
   "cell_type": "markdown",
   "id": "20be1f0f",
   "metadata": {},
   "source": [
    "# Radar interferometry"
   ]
  },
  {
   "cell_type": "markdown",
   "id": "609a537c",
   "metadata": {},
   "source": [
    "## Basics"
   ]
  },
  {
   "cell_type": "markdown",
   "id": "5cb75c5e",
   "metadata": {},
   "source": [
    "- Purpose\n",
    "    - Sort out the correlation of random path length from the phase"
   ]
  },
  {
   "cell_type": "markdown",
   "id": "d152571f",
   "metadata": {},
   "source": [
    "- Radar coherent backscatter\n",
    "    - Pixels in two radar images from nearby points have very similar complex phasor representation of the coherent backscatter"
   ]
  },
  {
   "cell_type": "markdown",
   "id": "aab2d58e",
   "metadata": {},
   "source": [
    "- **Relative distance between two images is the key for interferometry**\n",
    "    - $\\rho_2-\\rho_1$\n",
    "    - Relative between different **phases** of very close locations\n",
    "    - $D_2-D_2$ difference between two images (close by)"
   ]
  },
  {
   "cell_type": "markdown",
   "id": "2f39d2ef",
   "metadata": {},
   "source": [
    "- Steep topography tends to wrap too **fast** on SAR images (**more pixels**, but shorter cut-through distance between pixels"
   ]
  },
  {
   "cell_type": "markdown",
   "id": "57619d40",
   "metadata": {},
   "source": [
    "- Baseline (height of sensors across sensors at different location) is non-zero the interferometric phase will contain information to generate topographic maps\n",
    "    - If baseline distance is smaller, the fringe will be smaller\n",
    "    - [Measuring phase difference](https://dges.carleton.ca/courses/IntroSAR/SECTION%207%20-%20Carleton%20SAR%20Training%20-%20InSAR%20Theory%20-%20Final.pdf)"
   ]
  },
  {
   "cell_type": "markdown",
   "id": "2a95dc17",
   "metadata": {},
   "source": [
    "- Single pass data collection\n",
    "    - $2\\pi/\\lambda(\\rho_2-\\rho_1)$\n",
    "    - Need info of baseline\n",
    "- Repeated pass systems data collection\n",
    "    - $4\\pi/\\lambda(\\rho_2-\\rho_1)$\n",
    "- [Reference]()"
   ]
  },
  {
   "cell_type": "markdown",
   "id": "3d0fa208",
   "metadata": {},
   "source": [
    "## Interferometry for topography - 2D"
   ]
  },
  {
   "cell_type": "markdown",
   "id": "d48086b4",
   "metadata": {},
   "source": [
    "- Critical interferometer knowledge\n",
    "    - Baseline ($b$,$\\alpha$) (to mm's)\n",
    "    - System phase differences, to deg's"
   ]
  },
  {
   "cell_type": "markdown",
   "id": "4d8f1faa",
   "metadata": {},
   "source": [
    "- 2-D height reconstruction - Flat Earth\n"
   ]
  },
  {
   "cell_type": "markdown",
   "id": "e602b39c",
   "metadata": {},
   "source": [
    "- Phase gradient observations\n",
    "    - Phase rate (fringe rate)\n",
    "        - Depends on local slope and perpendicular baseline"
   ]
  },
  {
   "cell_type": "markdown",
   "id": "ecebf2ec",
   "metadata": {},
   "source": [
    "- Flattened phase"
   ]
  },
  {
   "cell_type": "markdown",
   "id": "c10c4322",
   "metadata": {},
   "source": [
    "- Sensitivity with phase and ambiguity height\n",
    "    - Larger baseline leads to more sensitivity\n",
    "    - Faster fringe rate\n",
    "- **Ambiguity height**\n",
    "    - A measurement of sensitivity of an interferometric system to topography\n",
    "- "
   ]
  },
  {
   "cell_type": "markdown",
   "id": "3d42153e",
   "metadata": {},
   "source": [
    "## Radar interferometry and surface deformation"
   ]
  },
  {
   "cell_type": "markdown",
   "id": "5405bd28",
   "metadata": {},
   "source": [
    "- Phase after surface deformation ($D_2-D_1$)\n",
    "    - Surface deformation\n",
    "    - Topography\n",
    "    - Atmos change"
   ]
  },
  {
   "cell_type": "markdown",
   "id": "1ac4ebe4",
   "metadata": {},
   "source": [
    "- Need two observations from different locations in space at different times, so the interferometry is phase is proportional to topography and topographic change"
   ]
  },
  {
   "cell_type": "markdown",
   "id": "36bad24f",
   "metadata": {},
   "source": [
    "- Phase convention and deformation\n",
    "    - Inflation (movement toward radar)\n",
    "    - Deflation (movement away from radar)"
   ]
  },
  {
   "cell_type": "markdown",
   "id": "6c6a93e5",
   "metadata": {},
   "source": [
    "- Deformation noise source\n",
    "    - Phase noise\n",
    "    - DME error"
   ]
  },
  {
   "cell_type": "markdown",
   "id": "6a61e113",
   "metadata": {},
   "source": [
    "## interferometric correlation"
   ]
  },
  {
   "cell_type": "markdown",
   "id": "9159ac60",
   "metadata": {},
   "source": [
    "- Correlation is important to measure the similarity in an interferometric pair\n",
    "- Decorrelation affects height and displacement accuracy and ability to unwrap phase\n",
    "- Signal decorrelates for a number of reasons"
   ]
  },
  {
   "cell_type": "markdown",
   "id": "7dc540d2",
   "metadata": {},
   "source": [
    "- Correlation components\n",
    "    - Noise\n",
    "    - baseline\n",
    "    - volumetric\n",
    "    - Temporal change"
   ]
  },
  {
   "cell_type": "markdown",
   "id": "cf0928e1",
   "metadata": {},
   "source": [
    "- Estimator bias\n",
    "    - Need to know how many looks were used in estimating correlation\n",
    "    - Lower the correlation, higher the bias can be"
   ]
  }
 ],
 "metadata": {
  "kernelspec": {
   "display_name": "Python (dojo-env)",
   "language": "python",
   "name": "dojo-env"
  },
  "language_info": {
   "codemirror_mode": {
    "name": "ipython",
    "version": 3
   },
   "file_extension": ".py",
   "mimetype": "text/x-python",
   "name": "python",
   "nbconvert_exporter": "python",
   "pygments_lexer": "ipython3",
   "version": "3.9.15"
  },
  "toc": {
   "base_numbering": 1,
   "nav_menu": {},
   "number_sections": true,
   "sideBar": true,
   "skip_h1_title": false,
   "title_cell": "Table of Contents",
   "title_sidebar": "Contents",
   "toc_cell": false,
   "toc_position": {},
   "toc_section_display": true,
   "toc_window_display": false
  }
 },
 "nbformat": 4,
 "nbformat_minor": 5
}
