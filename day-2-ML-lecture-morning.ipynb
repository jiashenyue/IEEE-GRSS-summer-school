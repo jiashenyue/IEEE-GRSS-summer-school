{
 "cells": [
  {
   "cell_type": "markdown",
   "id": "642ade6d",
   "metadata": {},
   "source": [
    "# Introduction to deep learning"
   ]
  },
  {
   "cell_type": "markdown",
   "id": "dbf20476",
   "metadata": {},
   "source": [
    "- Some useful resouces\n",
    "  - [Earth Data Science Courses](https://www.earthdatascience.org/courses/)"
   ]
  },
  {
   "cell_type": "markdown",
   "id": "332fa252",
   "metadata": {},
   "source": [
    "- Available satellite sensors for earth observation\n",
    "    - Landsat (free, multi-specrtral)\n",
    "    - Pléiades Neo (commercial, high-res)\n",
    "    - MODIS (free, multi-spec, continuous observation)\n",
    "    - Sentinel-1 (C-band radar)\n",
    "    - NASA SMAP (L-band)\n",
    "    - NASA CYGNSS (sensing sea elvel wind speed in tropical cyclones)\n",
    "        - Application in surfacve soil moisture"
   ]
  },
  {
   "cell_type": "markdown",
   "id": "e950da9b",
   "metadata": {},
   "source": [
    "- Supervised learning\n",
    "    - Classification\n",
    "    - Regression\n",
    "\n",
    "- Gradient boosting\n",
    "    - A fast ML method with mostly satisfactory results"
   ]
  },
  {
   "cell_type": "markdown",
   "id": "d66a9549",
   "metadata": {},
   "source": [
    "- Unsupervised learning\n",
    "    - Clustering\n",
    "    - Generative models\n",
    "    - Inverse problems"
   ]
  },
  {
   "cell_type": "markdown",
   "id": "b4319edc",
   "metadata": {},
   "source": [
    "- Diff b/w ML and DL\n",
    "    - Feature extraction and classification/regression are combined together in DL\n",
    "    - Users do not need to perform feature extraction, which is a required step in ML"
   ]
  },
  {
   "cell_type": "markdown",
   "id": "f8fdbe60",
   "metadata": {},
   "source": [
    "- State of the art\n",
    "    - CNNs\n",
    "    - RNN/LSTMs\n",
    "    - Transformers"
   ]
  },
  {
   "cell_type": "markdown",
   "id": "e32855d7",
   "metadata": {},
   "source": [
    "- Applications in remote sensing\n",
    "    - Scene classification using aerial photos\n",
    "        - AID: a benchmark dataset for performance evaluations of aerial scene classification\n",
    "        - Can combine spectral and non-spectral data together to achieve a more desirable result of classification\n",
    "        - [BigEarthNet](https://bigearth.net/)\n",
    "            - Image patches with multiple labels\n",
    "                - 43 imbalanced labels\n",
    "            - A library to test a classification model\n",
    "    - Object detection\n",
    "        - Horizontal object detection and rotated object detection\n",
    "        - [DIOR dataset](https://universe.roboflow.com/new-workspace-ghppr/dior-dataset-riv6b)\n",
    "    - Cloud detection\n",
    "    - Object recognition in an earth observation application context\n",
    "        - Active fire, solar PV parks, floating plastic litter, etc.\n",
    "    - Image segmentation (deal with pixels)\n",
    "        - Assign every pixel a value\n",
    "        - Land cover classification\n",
    "    - Change detection\n",
    "        - Challenges\n",
    "            - Atmos conditions\n",
    "            - Resolution\n",
    "            - Modality\n",
    "            - Lack of ground truth\n",
    "    - Image denoising\n",
    "    - Image supersolution\n",
    "    - Image compression\n",
    "    - Image fusion\n",
    "    - Forecasting for images"
   ]
  },
  {
   "cell_type": "markdown",
   "id": "46dc4b68",
   "metadata": {},
   "source": [
    "- Data source for machine learning in remote sensing\n",
    "    - In-situ\n",
    "    - Remote sensing images\n",
    "    - Process models\n",
    "- Data assimilation\n",
    "    - fusion of different data sources to estimate possible states of a system\n",
    "    - Sparse observations\n",
    "    - Measurements error\n",
    "    - Indirect sensing"
   ]
  },
  {
   "cell_type": "markdown",
   "id": "1c8461fa",
   "metadata": {},
   "source": [
    "- Supervised learning\n",
    "    - Exploit prior knowledge\n",
    "        - Experts, crowdsourcing\n",
    "        - Other instruments\n",
    "        - Treat the problem as a forecasting problem"
   ]
  },
  {
   "cell_type": "markdown",
   "id": "3f3fcb0c",
   "metadata": {},
   "source": [
    "- Neural networks\n",
    "    - Multiple layers in the neural network model: deep learning models\n",
    "    - How does deep learning neural network work conceptually?\n",
    "        - Input as pixels, identify edges, combination of edges, features, and combination of features\n",
    "        - Activation functions link different leayers\n",
    "        - Apply weights to new samples\n",
    "- Training DNN\n",
    "    - Get batch of data\n",
    "    - Forward thru the network and compute loss (e.g. MSE, categorical cross entropy)\n",
    "        - Goal: reduce the error computed at the end of each estimation (quantified by a loss function)\n",
    "    - Gradient descent\n",
    "        - Reduce the loss\n",
    "    - Backpropagation\n",
    "        - Automatically dealt by the model to answer the following two questions\n",
    "            - Which is the best loss function for our problem?\n",
    "            - Which value to use for the learning rate\n",
    "        - Backpropagation aims to minimize the cost function by adjusting network’s weights and biases ([ref](https://towardsdatascience.com/understanding-backpropagation-algorithm-7bb3aa2f95fd))\n",
    "    - Optimization algorithms\n",
    "- Training characteristics\n",
    "    - Under-fitting\n",
    "    - Over-fitting\n",
    "    - Curves of error for testing data as training steps go forward are different between under-fitting and over-fitting\n",
    "        - In the case of over-fitting, error significantly increases as training steps go further"
   ]
  },
  {
   "cell_type": "markdown",
   "id": "49d4a6eb",
   "metadata": {},
   "source": [
    "# Discriminative models"
   ]
  },
  {
   "cell_type": "markdown",
   "id": "8dc6d439",
   "metadata": {},
   "source": [
    "- CNN\n",
    "    - Intro\n",
    "        - Convolution layer, sub-sampling layer, repeat, and fully connected MLP\n",
    "        - Thru convolution and sub-sampling process, we generate feature maps\n",
    "        - Number of feature maps generated increases as the network's layer grows\n",
    "        - Convolution: moves in the entire image to deal with a much smaller image piece than the whole image\n",
    "    - Convolutional layers\n",
    "        - Input: multi-channel 2D image\n",
    "        - Apply: k filters\n",
    "        - Get: k feature maps\n",
    "        - Characteristics\n",
    "            - Hierarchical features\n",
    "            - Location invariance\n",
    "        - Parameters\n",
    "            - Number of filters\n",
    "            - Filter size\n",
    "            = Stride\n",
    "            - Padding\n",
    "    - Activation layer\n",
    "        - Introduction of non-linearity\n",
    "            - Thresholding: sigmoid\n",
    "        - ReLU: no saturation gradients\n",
    "    - Subsampling (pooling) layers\n",
    "        - A downscaling process\n",
    "        - For example: max pooling, average pooling\n",
    "    - Fully connected layers\n",
    "        - Eventually, the image will become one feature, then, connect to the classes (classification problem)\n",
    "            - Becomes a vector\n",
    "        - Typically at the end"
   ]
  },
  {
   "cell_type": "markdown",
   "id": "6c35a136",
   "metadata": {},
   "source": [
    "- Recurrent neural network\n",
    "    - Hidden layers are used in forward propagation\n",
    "    - Deal with sequential data"
   ]
  },
  {
   "cell_type": "markdown",
   "id": "e72eb4c3",
   "metadata": {},
   "source": [
    "- LSTMs\n",
    "    - ConvLSTM\n",
    "- Vision Transformer (ViT)"
   ]
  },
  {
   "cell_type": "markdown",
   "id": "8ff7083f",
   "metadata": {},
   "source": [
    "- Dropout\n",
    "    - Zeroing out some neurons in the connection\n",
    "        - Dropout rate\n",
    "    - Only applies during training\n",
    "- Batch normalization\n",
    "- Transfer learning\n",
    "    - Use model trained on a similar task to solve another problem\n",
    "    - Useful when data is limited for training\n",
    "- Knowledge distillation\n",
    "    - Teacher model knowledge transfers to student model"
   ]
  },
  {
   "cell_type": "markdown",
   "id": "91a8e098",
   "metadata": {},
   "source": [
    "- New challenges to work on after image classification problem has mostly been solved\n",
    "    - Multi-class vs. Multi-label\n",
    "        - Generate multi-label results for a given image\n",
    "        - Can use CNN to independently determine if the label applies or not\n",
    "            - SegNet, U-Net\n",
    "    - Image segment"
   ]
  },
  {
   "cell_type": "markdown",
   "id": "bf353af0",
   "metadata": {},
   "source": [
    "- Application in flood mapping\n",
    "    - Flood mapping using deep learning models\n",
    "        - [OMBRIA dataset](https://github.com/geodrak/OMBRIA) for flood mapping\n",
    "            - [IEEE paper](https://ieeexplore.ieee.org/document/9723593)\n",
    "    - Modification of U-Net models to meet different needs\n",
    "        - Pre and post event\n",
    "        - Multiple satellite image sources"
   ]
  },
  {
   "cell_type": "markdown",
   "id": "c4d05305",
   "metadata": {},
   "source": [
    "- Application in object detection\n",
    "    - Fast R-CNN"
   ]
  },
  {
   "cell_type": "raw",
   "id": "c8425c17",
   "metadata": {},
   "source": [
    "- Application in change detection\n",
    "    - Consider memory, speed, complexity in designing a method"
   ]
  },
  {
   "cell_type": "markdown",
   "id": "830b5a8d",
   "metadata": {},
   "source": [
    "## Hands-on working session"
   ]
  },
  {
   "cell_type": "markdown",
   "id": "39d218b5",
   "metadata": {},
   "source": [
    "- Refer to this [GitHub repository](https://github.com/gtsagkatakis/GRSS2023_Classification_Denoising_tutorial)"
   ]
  },
  {
   "cell_type": "markdown",
   "id": "3e229547",
   "metadata": {},
   "source": [
    "# Generative models and inverse problems"
   ]
  },
  {
   "cell_type": "markdown",
   "id": "1b494ecd",
   "metadata": {},
   "source": [
    "## Inverse problems"
   ]
  },
  {
   "cell_type": "markdown",
   "id": "af1ed9c4",
   "metadata": {},
   "source": [
    "- Inverse problems: super-resolution (SR)\n",
    "    - Metrics to measure model performance\n",
    "        - MSE\n",
    "        - PSNR\n",
    "        - SSIM"
   ]
  },
  {
   "cell_type": "markdown",
   "id": "7a7cd522",
   "metadata": {},
   "source": [
    "- Super Resolution CNN (SRCNN)\n",
    "    - No max-pooling\n",
    "    - Patch extraction, nonlinear mapping, reconstruction\n",
    "    - An interpolation process"
   ]
  },
  {
   "cell_type": "markdown",
   "id": "f62df56b",
   "metadata": {},
   "source": [
    "- Difficult to increase the PSNR even using advanced methods\n",
    "    - Different from classification problems"
   ]
  },
  {
   "cell_type": "markdown",
   "id": "ae07fb3c",
   "metadata": {},
   "source": [
    "- Multi-frame super resolution\n",
    "    - Fusing short sequence of low-quality images into higher-quality ones\n",
    "    - Example: producing high-quality images for ESA's Proba-V mission\n",
    "        - 300 m daily, 100 m 5-day\n",
    "- Spatial and spectral channel attention network\n",
    "    - Modification based on U-Net"
   ]
  },
  {
   "cell_type": "markdown",
   "id": "649a0d54",
   "metadata": {},
   "source": [
    "## Generative models"
   ]
  },
  {
   "cell_type": "markdown",
   "id": "41e7c2cd",
   "metadata": {},
   "source": [
    "### AutoEncoders (AE)\n",
    "    - Unsupervised feature learning\n",
    "    - Network is trained to output the input\n",
    "    - Compard with PCA, Deep Autoencoder shows a better performance\n",
    "- Variational autoencoder\n",
    "- Application: onboard change detection\n",
    "    - Challenge: traditional satellite data transmission takes too much time. What if we can do the analysis on-board?\n",
    "    - Use AE technology to generate an image to be close to the original one, if the event is missing in this construction, that means change occurred-> change mask is generated\n",
    "    - Benefit: does not need the labeling process, an unsupervised process"
   ]
  },
  {
   "cell_type": "markdown",
   "id": "3786e048",
   "metadata": {},
   "source": [
    "- Forecasting"
   ]
  },
  {
   "cell_type": "markdown",
   "id": "dde2aa4e",
   "metadata": {},
   "source": [
    "### Generative adversarial networks (GAN)\n",
    "    - Two neural networks\n",
    "        - Genrator\n",
    "        - Discriminator\n",
    "    - Generative network\n",
    "        - Generate a fake image\n",
    "    - Discraminator network\n",
    "        - Predicted labels (fake or true)\n",
    "    - No need to provide ground truth"
   ]
  },
  {
   "cell_type": "markdown",
   "id": "15f6fb43",
   "metadata": {},
   "source": [
    "- GANs for super resolution\n",
    "    - Example: use SAR image as input and generate multi-spectral image to avoid cloud coverage\n",
    "- GANs for cloud removal\n",
    "    - Spatiotemporal generative network"
   ]
  },
  {
   "cell_type": "markdown",
   "id": "363d6fe6",
   "metadata": {},
   "source": [
    "### Self-supervision\n",
    "\n",
    "- Self-supervision learning\n",
    "    - Predict (past or future)\n",
    "    - Pretend to have some information and generate new data based on this information"
   ]
  },
  {
   "cell_type": "markdown",
   "id": "8c68f0b1",
   "metadata": {},
   "source": [
    "## Hands-on demo\n",
    "\n",
    "- Refer to this [Google Colab notebook](https://github.com/gtsagkatakis/GRSS2023_Classification_Denoising_tutorial/blob/main/Tutorial2023_Denoising_UCMerced.ipynb)"
   ]
  },
  {
   "cell_type": "markdown",
   "id": "3d051475",
   "metadata": {},
   "source": [
    "# Recent development"
   ]
  },
  {
   "cell_type": "markdown",
   "id": "5df208e4",
   "metadata": {},
   "source": [
    "- Reinforcement learning"
   ]
  },
  {
   "cell_type": "markdown",
   "id": "faf99b42",
   "metadata": {},
   "source": [
    "- ClimaX\n",
    "    - Earth system and weather model\n",
    "    - [Blog link](https://www.microsoft.com/en-us/research/group/autonomous-systems-group-robotics/articles/introducing-climax-the-first-foundation-model-for-weather-and-climate/)\n",
    "    - [Project link](https://microsoft.github.io/ClimaX/)"
   ]
  }
 ],
 "metadata": {
  "kernelspec": {
   "display_name": "Python (dojo-env)",
   "language": "python",
   "name": "dojo-env"
  },
  "language_info": {
   "codemirror_mode": {
    "name": "ipython",
    "version": 3
   },
   "file_extension": ".py",
   "mimetype": "text/x-python",
   "name": "python",
   "nbconvert_exporter": "python",
   "pygments_lexer": "ipython3",
   "version": "3.9.15"
  },
  "toc": {
   "base_numbering": 1,
   "nav_menu": {},
   "number_sections": true,
   "sideBar": true,
   "skip_h1_title": false,
   "title_cell": "Table of Contents",
   "title_sidebar": "Contents",
   "toc_cell": false,
   "toc_position": {},
   "toc_section_display": true,
   "toc_window_display": false
  }
 },
 "nbformat": 4,
 "nbformat_minor": 5
}
